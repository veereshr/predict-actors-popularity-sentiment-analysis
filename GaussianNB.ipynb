{
 "metadata": {
  "name": ""
 },
 "nbformat": 3,
 "nbformat_minor": 0,
 "worksheets": [
  {
   "cells": [
    {
     "cell_type": "code",
     "collapsed": false,
     "input": [
      "from collections import Counter\n",
      "import glob\n",
      "import hashlib\n",
      "import io\n",
      "import math\n",
      "import matplotlib.pyplot as plt\n",
      "import numpy as np\n",
      "import os\n",
      "import re\n",
      "from sklearn.cross_validation import KFold\n",
      "from sklearn.feature_extraction.text import CountVectorizer\n",
      "from sklearn.linear_model import LogisticRegression\n",
      "from sklearn.metrics import accuracy_score\n",
      "import tarfile\n",
      "from urllib import urlretrieve\n",
      "%matplotlib inline"
     ],
     "language": "python",
     "metadata": {},
     "outputs": [],
     "prompt_number": 97
    },
    {
     "cell_type": "code",
     "collapsed": false,
     "input": [
      "# The path where the twitter training and testing data exists\n",
      "path = 'data'+os.sep+'tweets'\n",
      "print('subdirectories are:' + str(os.listdir(path)))"
     ],
     "language": "python",
     "metadata": {},
     "outputs": [
      {
       "output_type": "stream",
       "stream": "stdout",
       "text": [
        "subdirectories are:['train', 'test']\n"
       ]
      }
     ],
     "prompt_number": 98
    },
    {
     "cell_type": "code",
     "collapsed": false,
     "input": [
      "# Getting the list of files\n",
      "def get_files(path):\n",
      "    \"\"\" Returns a list of twitter file names in this directory that end in .txt \n",
      "    The list is sorted alphabetically by file name.\n",
      "    Parameters:\n",
      "        path....a directory containing .txt tweet files.\n",
      "    Returns:\n",
      "        a list of .txt file names, sorted alphabetically.\n",
      "    \"\"\"\n",
      "    file_names = os.listdir(path)\n",
      "    txt_file_names = []\n",
      "    \n",
      "    \n",
      "    for x in file_names:\n",
      "        name, extension = os.path.splitext(path+x)\n",
      "        if extension == \".txt\":\n",
      "            txt_file_names.append(path+\"/\"+x)\n",
      "        \n",
      "    return sorted(txt_file_names)"
     ],
     "language": "python",
     "metadata": {},
     "outputs": [],
     "prompt_number": 99
    },
    {
     "cell_type": "code",
     "collapsed": false,
     "input": [
      "pos_train_files = get_files(path + os.sep + 'train' + os.sep + 'pos')\n",
      "neg_train_files = get_files(path + os.sep + 'train' + os.sep + 'neg')\n",
      "all_train_files = pos_train_files + neg_train_files\n",
      "\n",
      "\n",
      "\n",
      "print('found %d positive and %d negative training files' %\n",
      "      (len(pos_train_files), len(neg_train_files)))\n",
      "print('first positive file: %s' % pos_train_files[0])\n",
      "print('first negative file: %s' % neg_train_files[0])"
     ],
     "language": "python",
     "metadata": {},
     "outputs": [
      {
       "output_type": "stream",
       "stream": "stdout",
       "text": [
        "found 775 positive and 546 negative training files\n",
        "first positive file: data/tweets/train/pos/Amy Adams1.txt\n",
        "first negative file: data/tweets/train/neg/Amy Adams1075.txt\n"
       ]
      }
     ],
     "prompt_number": 110
    },
    {
     "cell_type": "code",
     "collapsed": false,
     "input": [
      "\n",
      "def get_true_labels(file_names):\n",
      "    \"\"\"Returns a *numpy array* of ints for the true sentiment labels of each file.\n",
      "    1 means positive, 0 means negative.\n",
      "    Params:\n",
      "        file_names....a list of .txt file paths.\n",
      "    Returns:\n",
      "        a numpy array of 1 or 0 values corresponding to each element\n",
      "        of file_names, where 1 indicates a positive review, and 0\n",
      "        indicates a negative review.\n",
      "    \"\"\"\n",
      "\n",
      "    np_array = []\n",
      "    for x in file_names:\n",
      "        if \"pos\" in x:\n",
      "            np_array.append(1)\n",
      "        elif \"neg\" in x:\n",
      "            np_array.append(0)\n",
      "    return np.array(np_array)\n",
      "\n",
      "\n",
      "\n",
      "labels = get_true_labels(all_train_files)\n",
      "print('first 3 and last 3 labels are: %s' % str(labels[[1,2,3,-3,-2,-1]]))"
     ],
     "language": "python",
     "metadata": {},
     "outputs": [
      {
       "output_type": "stream",
       "stream": "stdout",
       "text": [
        "first 3 and last 3 labels are: [1 1 1 0 0 0]\n"
       ]
      }
     ],
     "prompt_number": 111
    },
    {
     "cell_type": "code",
     "collapsed": false,
     "input": [
      "#Loading all the actors names to be used for tokenization\n",
      "male_filename = \"data\"+os.sep+\"actors\"+os.sep+\"male-actor-names-db.txt\"\n",
      "female_filename = \"data\"+os.sep+\"actors\"+os.sep+\"female-actor-names-db.txt\"\n",
      "male_actors = io.open(male_filename, encoding='utf8').readlines()\n",
      "female_actors = io.open(female_filename, encoding='utf8').readlines()\n",
      "male_names = []\n",
      "female_names = []\n",
      "for x in male_actors:\n",
      "    y = x.strip().split()\n",
      "    for a in y:\n",
      "        male_names.append(a.lower())\n",
      "for x in female_actors:\n",
      "    y = x.strip().split()\n",
      "    for a in y:\n",
      "        female_names.append(a.lower())\n",
      "\n",
      "names = male_names + female_names\n"
     ],
     "language": "python",
     "metadata": {},
     "outputs": [],
     "prompt_number": 112
    },
    {
     "cell_type": "code",
     "collapsed": false,
     "input": [
      "\n",
      "#import nltk\n",
      "#nltk.download()\n",
      "\n",
      "def remove_names(tokens):\n",
      "    tokens_with_no_names = []\n",
      "    for x in tokens:\n",
      "        if x not in names:\n",
      "            tokens_with_no_names.append(x)\n",
      "    return tokens_with_no_names\n",
      "\n",
      "stopset = set(stopwords.words('english'))\n",
      "\n",
      "def remove_stop_words(tokens):\n",
      "    tokens_without_stop_words = [w for w in tokens if not w in stopset]\n",
      "    return tokens_without_stop_words"
     ],
     "language": "python",
     "metadata": {},
     "outputs": [],
     "prompt_number": 113
    },
    {
     "cell_type": "code",
     "collapsed": false,
     "input": [
      "'''\n",
      "Helper method for tokenization which replaces repetitive characters by\n",
      "atmost only two characters.\n",
      "For e.g., give input token as \"goooooood\", all the repetitive 'o's are replaced with atmost two 'o's.\n",
      "'''\n",
      "def replace_two_or_more(tokens):\n",
      "    #look for 2 or more repetitions of character and replace with the character itself\n",
      "    pattern = re.compile(r\"(.)\\1{1,}\", re.DOTALL)\n",
      "    new_tokens = []\n",
      "    for x in tokens:\n",
      "        new_tokens.append(pattern.sub(r\"\\1\\1\", x))\n",
      "    return new_tokens"
     ],
     "language": "python",
     "metadata": {},
     "outputs": [],
     "prompt_number": 114
    },
    {
     "cell_type": "code",
     "collapsed": false,
     "input": [
      "'''\n",
      "tokenize(text) can be called to tokenize all the words in a particular sentence.\n",
      "\n",
      "'''\n",
      "def tokenize(text):\n",
      "    \"\"\"\n",
      "    Given a string, return a list of tokens such that: \n",
      "    (1) all tokens are made lowercase, \n",
      "    (2) all punctuation is removed.\n",
      "    (3) all the urls are removed\n",
      "    (4) all the stop words are removed\n",
      "    (5) all the celebrity names are removed\n",
      "    (6) all the words that contains same characters more than twice are optimized by replacing those \n",
      "    repetitive characters with only two characters.\n",
      "    Params:\n",
      "        text....a string\n",
      "    Returns:\n",
      "        a list of tokens that contains only words which adds to the sentiment\n",
      "    \"\"\"\n",
      "\n",
      "    words = text.split()\n",
      "    words_with_no_link = []\n",
      "    #removing links\n",
      "    for each in words:\n",
      "        if not each.startswith('https'):\n",
      "            words_with_no_link.append(each)\n",
      "    text = \"\"\n",
      "    for each in  words_with_no_link:\n",
      "        text = text +\" \"+each\n",
      "    \n",
      "    #taking only words\n",
      "    tokens = re.sub('\\W+', ' ', text).lower().split()\n",
      "    tokens = replace_two_or_more(tokens)\n",
      "    #removing names from the text\n",
      "    tokens = remove_names(tokens)\n",
      "    #appending not wherever necessary\n",
      "    size = len(tokens)-1\n",
      "    size_copy = size\n",
      "    while size>=0:\n",
      "        if tokens[size] == \"not\":\n",
      "            if size+1 <= size_copy:\n",
      "                tokens[size+1] = \"not_\"+tokens[size+1]\n",
      "            if size+2 <= size_copy:\n",
      "                tokens[size+2] = \"not_\"+tokens[size+2]\n",
      "        if tokens[size] == \"no\":\n",
      "            if size+1 <= size_copy:\n",
      "                tokens[size+1] = \"no_\"+tokens[size+1]\n",
      "            if size+2 <= size_copy:\n",
      "                tokens[size+2] = \"no_\"+tokens[size+2]\n",
      "        size-=1\n",
      "\n",
      "    tokens = remove_stop_words(tokens)\n",
      "\n",
      "    return tokens\n",
      "\n",
      "\n",
      "\n",
      "tokenize(\"why like all Will Smith movies only have him on the cooooooooover? https://t.co/7EnnZV7U0j\")\n"
     ],
     "language": "python",
     "metadata": {},
     "outputs": [
      {
       "metadata": {},
       "output_type": "pyout",
       "prompt_number": 115,
       "text": [
        "['like', 'movies', 'coover']"
       ]
      }
     ],
     "prompt_number": 115
    },
    {
     "cell_type": "code",
     "collapsed": false,
     "input": [
      "'''\n",
      "To fetch the unique terms and collect unique features.\n",
      "'''\n",
      "from collections import defaultdict\n",
      "def make_vocabulary(tokens_list):\n",
      "    vocabulary = defaultdict(lambda: len(vocabulary))  # If term not present, assign next int.\n",
      "    for tokens in tokens_list:\n",
      "        for token in tokens:\n",
      "            vocabulary[token] # looking up a key; defaultdict takes care of assigning it a value.\n",
      "    print '%d unique terms in vocabulary' % len(vocabulary)\n",
      "    return vocabulary"
     ],
     "language": "python",
     "metadata": {},
     "outputs": [],
     "prompt_number": 116
    },
    {
     "cell_type": "code",
     "collapsed": false,
     "input": [
      "'''\n",
      "Making a feature matrix in the form of csr matrix.\n",
      "'''\n",
      "from scipy.sparse import lil_matrix\n",
      "\n",
      "def make_feature_matrix(tokens_list, vocabulary):\n",
      "    X = lil_matrix((len(all_train_files), len(vocabulary)))\n",
      "    for i, tokens in enumerate(tokens_list):\n",
      "        for token in tokens:\n",
      "            j = vocabulary[token]\n",
      "            X[i,j] += 1\n",
      "    return X.tocsr()  # convert to CSR for more efficient random access."
     ],
     "language": "python",
     "metadata": {},
     "outputs": [],
     "prompt_number": 117
    },
    {
     "cell_type": "code",
     "collapsed": false,
     "input": [
      "'''\n",
      "Using sklearn's CountVectorizer, a vectorizer object is obtained.\n",
      "'''\n",
      "def do_vectorize(filenames, tokenizer_fn=tokenize, min_df=1,\n",
      "                 max_df=1., binary=True, ngram_range=(1,1)):\n",
      "    \"\"\"\n",
      "    Converts a list of filenames into a sparse csr_matrix, where\n",
      "    each row is a file and each column represents a unique word.\n",
      "    Params:\n",
      "        filenames.......list of review file names\n",
      "        tokenizer_fn....the function used to tokenize each document\n",
      "        min_df..........remove terms from the vocabulary that don't appear\n",
      "                        in at least this many documents\n",
      "        max_df..........remove terms from the vocabulary that appear in more\n",
      "                        than this fraction of documents\n",
      "        binary..........If true, each documents is represented by a binary\n",
      "                        vector, where 1 means a term occurs at least once in \n",
      "                        the document. If false, the term frequency is used instead.\n",
      "        ngram_range.....A tuple (n,m) means to use phrases of length n to m inclusive.\n",
      "                        E.g., (1,2) means consider unigrams and bigrams.\n",
      "    Returns:\n",
      "        A tuple (X, vec), where X is the csr_matrix of feature vectors,\n",
      "        and vec is the CountVectorizer object.\n",
      "    \"\"\"\n",
      "\n",
      "    \n",
      "    vec = CountVectorizer(input='filename', tokenizer=tokenizer_fn, min_df=min_df,max_df=max_df, \n",
      "                             ngram_range = ngram_range, binary = binary)\n",
      "    X = vec.fit_transform(filenames)\n",
      "    return (X, vec)\n",
      "    \n",
      "\n",
      "matrix, vec = do_vectorize(all_train_files)\n",
      "print ('matrix represents %d documents with %d features' % (matrix.shape[0], matrix.shape[1]))\n",
      "print('first doc has terms:\\n%s' % (str(sorted(matrix[0].nonzero()[1]))))\n"
     ],
     "language": "python",
     "metadata": {},
     "outputs": [
      {
       "output_type": "stream",
       "stream": "stdout",
       "text": [
        "matrix represents 1321 documents with 2879 features\n",
        "first doc has terms:\n",
        "[97, 171, 534, 2128, 2209, 2388, 2438]\n"
       ]
      }
     ],
     "prompt_number": 118
    },
    {
     "cell_type": "code",
     "collapsed": false,
     "input": [
      "y = labels\n",
      "filenames = all_train_files"
     ],
     "language": "python",
     "metadata": {},
     "outputs": [],
     "prompt_number": 121
    },
    {
     "cell_type": "code",
     "collapsed": false,
     "input": [
      "'''\n",
      "get_clf() can be called to get the GaussianNB object.\n",
      "'''\n",
      "from sklearn.naive_bayes import GaussianNB\n",
      "\n",
      "def get_clf():\n",
      "    return GaussianNB()"
     ],
     "language": "python",
     "metadata": {},
     "outputs": [],
     "prompt_number": 122
    },
    {
     "cell_type": "code",
     "collapsed": false,
     "input": [
      "'''\n",
      "Performing n-fold cross validation, calling get_clf() to train n\n",
      "different classifiers.\n",
      "'''\n",
      "def do_cross_validation(X, y, n_folds=5, verbose=False):\n",
      "    \"\"\"\n",
      "    Parameters:\n",
      "        X.........a csr_matrix of feature vectors\n",
      "        y.........the true labels of each document\n",
      "        n_folds...the number of folds of cross-validation to do\n",
      "        verbose...If true, report the testing accuracy for each fold.\n",
      "    Return:\n",
      "        the average testing accuracy across all folds.\n",
      "    \"\"\"\n",
      "\n",
      "    cv = KFold(len(y), n_folds)\n",
      "    \n",
      "    accuracies = []\n",
      "    i = 0\n",
      "    for train_idx, test_idx in cv:\n",
      "        clf = get_clf()\n",
      "        clf.fit(X[train_idx], y[train_idx])\n",
      "        predicted = clf.predict(X[test_idx])\n",
      "        acc = accuracy_score(y[test_idx], predicted)\n",
      "        accuracies.append(acc)\n",
      "        if verbose:\n",
      "            print \"fold %d accuracy=%s\"%(i,acc)\n",
      "        i+=1\n",
      "    avg = np.mean(accuracies)\n",
      "    return avg\n",
      "    \n",
      "print('average cross validation accuracy=%.4f' %\n",
      "      do_cross_validation(X.toarray(), y, verbose=True))"
     ],
     "language": "python",
     "metadata": {},
     "outputs": [
      {
       "output_type": "stream",
       "stream": "stdout",
       "text": [
        "fold 0 accuracy=0.618867924528\n",
        "fold 1 accuracy=0.82196969697"
       ]
      },
      {
       "output_type": "stream",
       "stream": "stdout",
       "text": [
        "\n",
        "fold 2 accuracy=0.867424242424"
       ]
      },
      {
       "output_type": "stream",
       "stream": "stdout",
       "text": [
        "\n",
        "fold 3 accuracy=0.564393939394"
       ]
      },
      {
       "output_type": "stream",
       "stream": "stdout",
       "text": [
        "\n",
        "fold 4 accuracy=0.636363636364"
       ]
      },
      {
       "output_type": "stream",
       "stream": "stdout",
       "text": [
        "\n",
        "average cross validation accuracy=0.7018\n"
       ]
      }
     ],
     "prompt_number": 123
    },
    {
     "cell_type": "code",
     "collapsed": false,
     "input": [
      "'''\n",
      "Running one experiment, which consists of vectorizing each file, \n",
      "performing cross-validation, and returning the average accuracy.\n",
      "'''\n",
      "def do_expt(filenames, y, tokenizer_fn=tokenize,\n",
      "            min_df=1, max_df=1., binary=True,\n",
      "            ngram_range=(1,1), n_folds=5):\n",
      "    \"\"\"\n",
      "    Parameters:\n",
      "        filenames.......list of review file names\n",
      "        y...............the true sentiment labels for each file\n",
      "        tokenizer_fn....the function used to tokenize each document\n",
      "        min_df..........remove terms from the vocabulary that don't appear\n",
      "                        in at least this many documents\n",
      "        max_df..........remove terms from the vocabulary that appear in more\n",
      "                        than this fraction of documents\n",
      "        binary..........If true, each documents is represented by a binary\n",
      "                        vector, where 1 means a term occurs at least once in \n",
      "                        the document. If false, the term frequency is used instead.\n",
      "        ngram_range.....A tuple (n,m) means to use phrases of length n to m inclusive.\n",
      "                        E.g., (1,2) means consider unigrams and bigrams.\n",
      "        n_folds.........The number of cross-validation folds to use.\n",
      "    Returns:\n",
      "        the average cross validation testing accuracy.\n",
      "    \"\"\"\n",
      "    \n",
      "    avg = 0\n",
      "    expt_matrix, expt_vec = do_vectorize(filenames = filenames,binary = binary, tokenizer_fn=tokenizer_fn,min_df = min_df,max_df = max_df)\n",
      "    avg = do_cross_validation(expt_matrix.toarray(),y,n_folds=n_folds)\n",
      "    return avg"
     ],
     "language": "python",
     "metadata": {},
     "outputs": [],
     "prompt_number": 125
    },
    {
     "cell_type": "code",
     "collapsed": false,
     "input": [
      "print('accuracy using default settings: %.4g' % do_expt(filenames, y))"
     ],
     "language": "python",
     "metadata": {},
     "outputs": [
      {
       "output_type": "stream",
       "stream": "stdout",
       "text": [
        "accuracy using default settings: 0.7018\n"
       ]
      }
     ],
     "prompt_number": 126
    },
    {
     "cell_type": "code",
     "collapsed": false,
     "input": [
      "'''\n",
      "Varying the setting of n_folds parameter in the do_expt \n",
      "    function to be in [2,5,10,20]. For each setting, call do_expt and \n",
      "    store the resulting accuracy. Plot the accuracies for each setting.\n",
      "    Also return the list of accuracies. Use the default value for all\n",
      "    other arguments to the do_expt function.\n",
      "'''\n",
      "def compare_n_folds(filenames, y):\n",
      "    \"\"\"\n",
      "    Parameters:\n",
      "        filenames....list of training file names\n",
      "        y............true labels for each file (a numpy array)\n",
      "    Returns:\n",
      "        a list of average testing accuracies, one per fold.\n",
      "    \"\"\"\n",
      "\n",
      "    nfolds = [2,5,10,20]\n",
      "    accuracy_different_nfolds = [do_expt(filenames,y,n_folds=x) for x in nfolds]\n",
      "    plt.figure()\n",
      "    plt.plot(nfolds, accuracy_different_nfolds,'bo-')\n",
      "    plt.xlabel('n_folds')\n",
      "    plt.ylabel('accuracy')\n",
      "    plt.show()\n",
      "    return accuracy_different_nfolds\n",
      "        \n",
      "compare_n_folds(filenames, y)"
     ],
     "language": "python",
     "metadata": {},
     "outputs": [
      {
       "metadata": {},
       "output_type": "display_data",
       "png": "[encoded data removed]",
       "text": [
        "<matplotlib.figure.Figure at 0x7f5686b7a090>"
       ]
      },
      {
       "metadata": {},
       "output_type": "pyout",
       "prompt_number": 127,
       "text": [
        "[0.28454820519873469,\n",
        " 0.70180388793596338,\n",
        " 0.79943039416723616,\n",
        " 0.83799185888738137]"
       ]
      }
     ],
     "prompt_number": 127
    },
    {
     "cell_type": "code",
     "collapsed": false,
     "input": [
      "'''\n",
      "Varying the setting of min_df parameter in the do_expt \n",
      "function to be ints in the range (1,10) (inclusive). \n",
      "'''\n",
      "def min_df_expt(filenames, y):\n",
      "    \"\"\"\n",
      "    Parameters:\n",
      "        filenames....list of training file names\n",
      "        y............true labels for each file (a numpy array)\n",
      "    Returns:\n",
      "        a list of average testing accuracies, one per min_df value.\n",
      "    \"\"\"\n",
      "\n",
      "    \n",
      "    min_dfs = [ do_expt(filenames=filenames, y = y, min_df=min_df, tokenizer_fn=tokenize)\n",
      "               for min_df in range(1,11)]\n",
      "    #plt.figure()\n",
      "    plt.plot(min_dfs,'bo-')\n",
      "    plt.xlabel('min_df')\n",
      "    plt.ylabel('accuracy')\n",
      "    plt.show()\n",
      "    \n",
      "    return min_dfs\n",
      "\n",
      "min_df_expt(filenames, y)"
     ],
     "language": "python",
     "metadata": {},
     "outputs": [
      {
       "metadata": {},
       "output_type": "display_data",
       "png": "[encoded data removed]",
       "text": [
        "<matplotlib.figure.Figure at 0x7f5686eeb990>"
       ]
      },
      {
       "metadata": {},
       "output_type": "pyout",
       "prompt_number": 128,
       "text": [
        "[0.70180388793596338,\n",
        " 0.70180388793596338,\n",
        " 0.76236134934248145,\n",
        " 0.80169239565465966,\n",
        " 0.82969411092052603,\n",
        " 0.85919668381932524,\n",
        " 0.85921097770154375,\n",
        " 0.85015151515151521,\n",
        " 0.85242995997712989,\n",
        " 0.83729845626072041]"
       ]
      }
     ],
     "prompt_number": 128
    },
    {
     "cell_type": "code",
     "collapsed": false,
     "input": [
      "'''\n",
      "Varying the setting of max_df parameter in the do_expt \n",
      "function to be one of [.1, .2, .3, .4, .5, .6, .7, .8, .9, 1.]\n",
      "'''\n",
      "def max_df_expt(filenames, y):\n",
      "    \"\"\"\n",
      "    Parameters:\n",
      "        filenames....list of training file names\n",
      "        y............true labels for each file (a numpy array)\n",
      "    Returns:\n",
      "        a list of average testing accuracies, one per max_df value.\n",
      "    \"\"\"\n",
      "\n",
      "    max_df_values = [.1, .2, .3, .4, .5, .6, .7, .8, .9, 1.]\n",
      "    max_dfs = [do_expt(filenames=filenames, y = y, min_df=2, max_df = x, tokenizer_fn=tokenize) for x in max_df_values]\n",
      "    plt.plot(max_dfs,'bo-')\n",
      "    plt.xlabel('max_df')\n",
      "    plt.ylabel('accuracy')\n",
      "    plt.show()\n",
      "    return max_dfs\n",
      "    \n",
      "max_df_expt(filenames, y)"
     ],
     "language": "python",
     "metadata": {},
     "outputs": [
      {
       "metadata": {},
       "output_type": "display_data",
       "png": "[encoded data removed]",
       "text": [
        "<matplotlib.figure.Figure at 0x7f5686bbb0d0>"
       ]
      },
      {
       "metadata": {},
       "output_type": "pyout",
       "prompt_number": 129,
       "text": [
        "[0.70180388793596338,\n",
        " 0.70180388793596338,\n",
        " 0.70180388793596338,\n",
        " 0.70180388793596338,\n",
        " 0.70180388793596338,\n",
        " 0.70180388793596338,\n",
        " 0.70180388793596338,\n",
        " 0.70180388793596338,\n",
        " 0.70180388793596338,\n",
        " 0.70180388793596338]"
       ]
      }
     ],
     "prompt_number": 129
    }
   ],
   "metadata": {}
  }
 ]
}