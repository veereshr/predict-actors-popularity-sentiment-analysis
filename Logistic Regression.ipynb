{
 "metadata": {
  "name": ""
 },
 "nbformat": 3,
 "nbformat_minor": 0,
 "worksheets": [
  {
   "cells": [
    {
     "cell_type": "code",
     "collapsed": false,
     "input": [
      "from collections import Counter\n",
      "import glob\n",
      "import hashlib\n",
      "import io\n",
      "import math\n",
      "import matplotlib.pyplot as plt\n",
      "import numpy as np\n",
      "import os\n",
      "import re\n",
      "from sklearn.cross_validation import KFold\n",
      "from sklearn.feature_extraction.text import CountVectorizer\n",
      "from sklearn.linear_model import LogisticRegression\n",
      "from sklearn.metrics import accuracy_score\n",
      "import tarfile\n",
      "from urllib import urlretrieve\n",
      "from scipy.sparse import lil_matrix\n",
      "from nltk.corpus import stopwords\n",
      "\n",
      "%matplotlib inline"
     ],
     "language": "python",
     "metadata": {},
     "outputs": [],
     "prompt_number": 308
    },
    {
     "cell_type": "code",
     "collapsed": false,
     "input": [
      "# The path where the twitter training and testing data exists\n",
      "path = 'data'+os.sep+'tweets'\n",
      "print('subdirectories are:' + str(os.listdir(path)))"
     ],
     "language": "python",
     "metadata": {},
     "outputs": [
      {
       "output_type": "stream",
       "stream": "stdout",
       "text": [
        "subdirectories are:['train', 'test']\n"
       ]
      }
     ],
     "prompt_number": 285
    },
    {
     "cell_type": "code",
     "collapsed": false,
     "input": [
      "# Getting the list of files\n",
      "def get_files(path):\n",
      "    \"\"\" Returns a list of twitter file names in this directory that end in .txt \n",
      "    The list is sorted alphabetically by file name.\n",
      "    Params:\n",
      "        path....a directory containing .txt tweet files.\n",
      "    Returns:\n",
      "        a list of .txt file names, sorted alphabetically.\n",
      "    \"\"\"\n",
      "    file_names = os.listdir(path)\n",
      "    txt_file_names = []\n",
      "    \n",
      "    \n",
      "    for x in file_names:\n",
      "        name, extension = os.path.splitext(path+x)\n",
      "        if extension == \".txt\":\n",
      "            txt_file_names.append(path+\"/\"+x)\n",
      "        \n",
      "    return sorted(txt_file_names)"
     ],
     "language": "python",
     "metadata": {},
     "outputs": [],
     "prompt_number": 286
    },
    {
     "cell_type": "code",
     "collapsed": false,
     "input": [
      "pos_train_files = get_files(path + os.sep + 'train' + os.sep + 'pos')\n",
      "neg_train_files = get_files(path + os.sep + 'train' + os.sep + 'neg')\n",
      "all_train_files = pos_train_files + neg_train_files\n",
      "\n",
      "\n",
      "print('found %d positive and %d negative training files' %\n",
      "      (len(pos_train_files), len(neg_train_files)))\n",
      "print('first positive file: %s' % pos_train_files[0])\n",
      "print('first negative file: %s' % neg_train_files[0])"
     ],
     "language": "python",
     "metadata": {},
     "outputs": [
      {
       "output_type": "stream",
       "stream": "stdout",
       "text": [
        "found 775 positive and 546 negative training files\n",
        "first positive file: data/tweets/train/pos/Amy Adams1.txt\n",
        "first negative file: data/tweets/train/neg/Amy Adams1075.txt\n"
       ]
      }
     ],
     "prompt_number": 289
    },
    {
     "cell_type": "code",
     "collapsed": false,
     "input": [
      "\n",
      "def get_true_labels(file_names):\n",
      "    \"\"\"Returns a *numpy array* of ints for the true sentiment labels of each file.\n",
      "    1 means positive, 0 means negative.\n",
      "    Paramseters:\n",
      "        file_names....a list of .txt file paths.\n",
      "    Returns:\n",
      "        a numpy array of 1 or 0 values corresponding to each element\n",
      "        of file_names, where 1 indicates a positive review, and 0\n",
      "        indicates a negative review.\n",
      "    \"\"\"\n",
      "\n",
      "    np_array = []\n",
      "    for x in file_names:\n",
      "        if \"pos\" in x:\n",
      "            np_array.append(1)\n",
      "        elif \"neg\" in x:\n",
      "            np_array.append(0)\n",
      "    return np.array(np_array)\n",
      "\n",
      "\n",
      "\n",
      "labels = get_true_labels(all_train_files)\n",
      "print('first 3 and last 3 labels are: %s' % str(labels[[1,2,3,-3,-2,-1]]))"
     ],
     "language": "python",
     "metadata": {},
     "outputs": [
      {
       "output_type": "stream",
       "stream": "stdout",
       "text": [
        "first 3 and last 3 labels are: [1 1 1 0 0 0]\n"
       ]
      }
     ],
     "prompt_number": 310
    },
    {
     "cell_type": "code",
     "collapsed": false,
     "input": [
      "#Loading all the actors names to be used for tokenization\n",
      "male_filename = \"data\"+os.sep+\"actors\"+os.sep+\"male-actor-names-db.txt\"\n",
      "female_filename = \"data\"+os.sep+\"actors\"+os.sep+\"female-actor-names-db.txt\"\n",
      "male_actors = io.open(male_filename, encoding='utf8').readlines()\n",
      "female_actors = io.open(female_filename, encoding='utf8').readlines()\n",
      "male_names = []\n",
      "female_names = []\n",
      "for x in male_actors:\n",
      "    y = x.strip().split()\n",
      "    for a in y:\n",
      "        male_names.append(a.lower())\n",
      "for x in female_actors:\n",
      "    y = x.strip().split()\n",
      "    for a in y:\n",
      "        female_names.append(a.lower())\n",
      "\n",
      "names = male_names + female_names\n"
     ],
     "language": "python",
     "metadata": {},
     "outputs": [],
     "prompt_number": 291
    },
    {
     "cell_type": "code",
     "collapsed": false,
     "input": [
      "\n",
      "#import nltk\n",
      "#nltk.download()\n",
      "\n",
      "def remove_names(tokens):\n",
      "    tokens_with_no_names = []\n",
      "    for x in tokens:\n",
      "        if x not in names:\n",
      "            tokens_with_no_names.append(x)\n",
      "    return tokens_with_no_names\n",
      "\n",
      "stopset = set(stopwords.words('english'))\n",
      "\n",
      "def remove_stop_words(tokens):\n",
      "    tokens_without_stop_words = [w for w in tokens if not w in stopset]\n",
      "    return tokens_without_stop_words"
     ],
     "language": "python",
     "metadata": {},
     "outputs": [],
     "prompt_number": 300
    },
    {
     "cell_type": "code",
     "collapsed": false,
     "input": [
      "'''\n",
      "Helper method for tokenization which replaces repetitive characters by\n",
      "atmost only two characters.\n",
      "For e.g., give input token as \"goooooood\", all the repetitive 'o's are replaced with atmost two 'o's.\n",
      "'''\n",
      "def replace_two_or_more(tokens):\n",
      "    #look for 2 or more repetitions of character and replace with the character itself\n",
      "    pattern = re.compile(r\"(.)\\1{1,}\", re.DOTALL)\n",
      "    new_tokens = []\n",
      "    for x in tokens:\n",
      "        new_tokens.append(pattern.sub(r\"\\1\\1\", x))\n",
      "    return new_tokens"
     ],
     "language": "python",
     "metadata": {},
     "outputs": [],
     "prompt_number": 299
    },
    {
     "cell_type": "code",
     "collapsed": false,
     "input": [
      "'''\n",
      "tokenize(text) can be called to tokenize all the words in a particular sentence.\n",
      "\n",
      "'''\n",
      "def tokenize(text):\n",
      "    \"\"\"\n",
      "    Given a string, return a list of tokens such that: \n",
      "    (1) all tokens are made lowercase, \n",
      "    (2) all punctuation is removed.\n",
      "    (3) all the urls are removed\n",
      "    (4) all the stop words are removed\n",
      "    (5) all the celebrity names are removed\n",
      "    (6) all the words that contains same characters more than twice are optimized by replacing those \n",
      "    repetitive characters with only two characters.\n",
      "    Params:\n",
      "        text....a string\n",
      "    Returns:\n",
      "        a list of tokens that contains only words which adds to the sentiment\n",
      "    \"\"\"\n",
      "\n",
      "    words = text.split()\n",
      "    words_with_no_link = []\n",
      "    #removing links\n",
      "    for each in words:\n",
      "        if not each.startswith('https'):\n",
      "            words_with_no_link.append(each)\n",
      "    text = \"\"\n",
      "    for each in  words_with_no_link:\n",
      "        text = text +\" \"+each\n",
      "    \n",
      "    #taking only words\n",
      "    tokens = re.sub('\\W+', ' ', text).lower().split()\n",
      "    tokens = replace_two_or_more(tokens)\n",
      "    #removing names from the text\n",
      "    tokens = remove_names(tokens)\n",
      "    #appending not wherever necessary\n",
      "    size = len(tokens)-1\n",
      "    size_copy = size\n",
      "    while size>=0:\n",
      "        if tokens[size] == \"not\":\n",
      "            if size+1 <= size_copy:\n",
      "                tokens[size+1] = \"not_\"+tokens[size+1]\n",
      "            if size+2 <= size_copy:\n",
      "                tokens[size+2] = \"not_\"+tokens[size+2]\n",
      "        if tokens[size] == \"no\":\n",
      "            if size+1 <= size_copy:\n",
      "                tokens[size+1] = \"no_\"+tokens[size+1]\n",
      "            if size+2 <= size_copy:\n",
      "                tokens[size+2] = \"no_\"+tokens[size+2]\n",
      "        size-=1\n",
      "\n",
      "    tokens = remove_stop_words(tokens)\n",
      "\n",
      "    return tokens\n",
      "\n",
      "\n",
      "\n",
      "tokenize(\"why like all Will Smith movies only have him on the cooooooooover? https://t.co/7EnnZV7U0j\")\n"
     ],
     "language": "python",
     "metadata": {},
     "outputs": [
      {
       "metadata": {},
       "output_type": "pyout",
       "prompt_number": 298,
       "text": [
        "['like', 'movies', 'coover']"
       ]
      }
     ],
     "prompt_number": 298
    },
    {
     "cell_type": "code",
     "collapsed": false,
     "input": [
      "'''\n",
      "To fetch the unique terms and collect unique features.\n",
      "'''\n",
      "from collections import defaultdict\n",
      "def make_vocabulary(tokens_list):\n",
      "    vocabulary = defaultdict(lambda: len(vocabulary)) \n",
      "    for tokens in tokens_list:\n",
      "        for token in tokens:\n",
      "            vocabulary[token]\n",
      "    print '%d unique terms in vocabulary' % len(vocabulary)\n",
      "    return vocabulary"
     ],
     "language": "python",
     "metadata": {},
     "outputs": [],
     "prompt_number": 232
    },
    {
     "cell_type": "code",
     "collapsed": false,
     "input": [
      "'''\n",
      "Making a feature matrix in the form of csr matrix.\n",
      "'''\n",
      "def make_feature_matrix(tokens_list, vocabulary):\n",
      "    X = lil_matrix((len(all_train_files), len(vocabulary)))\n",
      "    for i, tokens in enumerate(tokens_list):\n",
      "        for token in tokens:\n",
      "            j = vocabulary[token]\n",
      "            X[i,j] += 1\n",
      "    return X.tocsr()"
     ],
     "language": "python",
     "metadata": {},
     "outputs": [],
     "prompt_number": 233
    },
    {
     "cell_type": "code",
     "collapsed": false,
     "input": [
      "'''\n",
      "Using sklearn's CountVectorizer, a vectorizer object is obtained.\n",
      "'''\n",
      "def do_vectorize(filenames, tokenizer_fn=tokenize, min_df=1,\n",
      "                 max_df=1., binary=True, ngram_range=(1,1)):\n",
      "    \"\"\"\n",
      "    Converts a list of filenames into a sparse csr_matrix, where\n",
      "    each row is a file and each column represents a unique word.\n",
      "    Params:\n",
      "        filenames.......list of review file names\n",
      "        tokenizer_fn....the function used to tokenize each document\n",
      "        min_df..........remove terms from the vocabulary that don't appear\n",
      "                        in at least this many documents\n",
      "        max_df..........remove terms from the vocabulary that appear in more\n",
      "                        than this fraction of documents\n",
      "        binary..........If true, each documents is represented by a binary\n",
      "                        vector, where 1 means a term occurs at least once in \n",
      "                        the document. If false, the term frequency is used instead.\n",
      "        ngram_range.....A tuple (n,m) means to use phrases of length n to m inclusive.\n",
      "                        E.g., (1,2) means consider unigrams and bigrams.\n",
      "    Returns:\n",
      "        A tuple (X, vec), where X is the csr_matrix of feature vectors,\n",
      "        and vec is the CountVectorizer object.\n",
      "    \"\"\"\n",
      "\n",
      "    \n",
      "    vec = CountVectorizer(input='filename', tokenizer=tokenizer_fn, min_df=min_df,max_df=max_df, \n",
      "                             ngram_range = ngram_range, binary = binary)\n",
      "    X = vec.fit_transform(filenames)\n",
      "    return (X, vec)\n",
      "    \n",
      "\n",
      "matrix, vec = do_vectorize(all_train_files)\n",
      "print ('matrix represents %d documents with %d features' % (matrix.shape[0], matrix.shape[1]))\n",
      "print('first doc has terms:\\n%s' % (str(sorted(matrix[0].nonzero()[1]))))\n"
     ],
     "language": "python",
     "metadata": {},
     "outputs": [
      {
       "output_type": "stream",
       "stream": "stdout",
       "text": [
        "matrix represents 1321 documents with 2879 features\n",
        "first doc has terms:\n",
        "[97, 171, 534, 2128, 2209, 2388, 2438]\n"
       ]
      }
     ],
     "prompt_number": 311
    },
    {
     "cell_type": "code",
     "collapsed": false,
     "input": [
      "'''\n",
      "Shuffling the documents in order to acheive a better and correct result even with randomized documents.\n",
      "'''\n",
      "def repeatable_random(seed):\n",
      "    hash = str(seed)\n",
      "    while True:\n",
      "        hash = hashlib.md5(hash).digest()\n",
      "        for c in hash:\n",
      "            yield ord(c)\n",
      "\n",
      "def repeatable_shuffle(X, y, filenames):\n",
      "    r = repeatable_random(42)\n",
      "    indices = sorted(range(X.shape[0]), key=lambda x: next(r))\n",
      "    return X[indices], y[indices], np.array(filenames)[indices]\n",
      "\n",
      "X, y, filenames = repeatable_shuffle(matrix, labels, all_train_files)\n",
      "\n",
      "print('first shuffled document %s has label %d and terms: %s' % \n",
      "      (filenames[0], y[0], sorted(X[0].nonzero()[1])))"
     ],
     "language": "python",
     "metadata": {},
     "outputs": [
      {
       "output_type": "stream",
       "stream": "stdout",
       "text": [
        "first shuffled document data/tweets/train/pos/Amy Adams690.txt has label 1 and terms: [203, 622, 963, 1120, 1164, 1201, 1395, 1426, 1487, 1583, 1816, 1901, 1902, 2007, 2157, 2625]\n"
       ]
      }
     ],
     "prompt_number": 302
    },
    {
     "cell_type": "code",
     "collapsed": false,
     "input": [
      "'''\n",
      "get_clf() can be called to get the Logistic Regression object.\n",
      "'''\n",
      "def get_clf():\n",
      "    return LogisticRegression(random_state=42)"
     ],
     "language": "python",
     "metadata": {},
     "outputs": [],
     "prompt_number": 237
    },
    {
     "cell_type": "code",
     "collapsed": false,
     "input": [
      "'''\n",
      "Performing n-fold cross validation, calling get_clf() to train n\n",
      "different classifiers. \n",
      "'''\n",
      "def do_cross_validation(X, y, n_folds=5, verbose=False):\n",
      "    \"\"\"\n",
      "    Parameters:\n",
      "        X.........a csr_matrix of feature vectors\n",
      "        y.........the true labels of each document\n",
      "        n_folds...the number of folds of cross-validation to do\n",
      "        verbose...If true, report the testing accuracy for each fold.\n",
      "    Return:\n",
      "        the average testing accuracy across all folds.\n",
      "    \"\"\"\n",
      "\n",
      "    cv = KFold(len(y), n_folds)\n",
      "    \n",
      "    accuracies = []\n",
      "    i = 0\n",
      "    for train_idx, test_idx in cv:\n",
      "        clf = get_clf()\n",
      "        clf.fit(X[train_idx], y[train_idx])\n",
      "        predicted = clf.predict(X[test_idx])\n",
      "        acc = accuracy_score(y[test_idx], predicted)\n",
      "        accuracies.append(acc)\n",
      "        if verbose:\n",
      "            print \"fold %d accuracy=%s\"%(i,acc)\n",
      "        i+=1\n",
      "    avg = np.mean(accuracies)\n",
      "    return avg\n",
      "    \n",
      "print('average cross validation accuracy=%.4f' %\n",
      "      do_cross_validation(X, y, verbose=True))"
     ],
     "language": "python",
     "metadata": {},
     "outputs": [
      {
       "output_type": "stream",
       "stream": "stdout",
       "text": [
        "fold 0 accuracy=0.856603773585\n",
        "fold 1 accuracy=0.795454545455\n",
        "fold 2 accuracy=0.80303030303\n",
        "fold 3 accuracy=0.840909090909\n",
        "fold 4 accuracy=0.780303030303\n",
        "average cross validation accuracy=0.8153\n"
       ]
      }
     ],
     "prompt_number": 238
    },
    {
     "cell_type": "code",
     "collapsed": false,
     "input": [
      "'''\n",
      "Running one experiment, which consists of vectorizing each file, \n",
      "performing cross-validation, and returning the average accuracy.\n",
      "'''\n",
      "def do_expt(filenames, y, tokenizer_fn=tokenize,\n",
      "            min_df=1, max_df=1., binary=True,\n",
      "            ngram_range=(1,1), n_folds=5):\n",
      "    \"\"\"\n",
      "    Parameters:\n",
      "        filenames.......list of review file names\n",
      "        y...............the true sentiment labels for each file\n",
      "        tokenizer_fn....the function used to tokenize each document\n",
      "        min_df..........remove terms from the vocabulary that don't appear\n",
      "                        in at least this many documents\n",
      "        max_df..........remove terms from the vocabulary that appear in more\n",
      "                        than this fraction of documents\n",
      "        binary..........If true, each documents is represented by a binary\n",
      "                        vector, where 1 means a term occurs at least once in \n",
      "                        the document. If false, the term frequency is used instead.\n",
      "        ngram_range.....A tuple (n,m) means to use phrases of length n to m inclusive.\n",
      "                        E.g., (1,2) means consider unigrams and bigrams.\n",
      "        n_folds.........The number of cross-validation folds to use.\n",
      "    Returns:\n",
      "        the average cross validation testing accuracy.\n",
      "    \"\"\"\n",
      "\n",
      "    avg = 0\n",
      "    expt_matrix, expt_vec = do_vectorize(filenames = filenames,binary = binary, tokenizer_fn=tokenizer_fn,min_df = min_df,max_df = max_df)\n",
      "    avg = do_cross_validation(expt_matrix,y,n_folds=n_folds)\n",
      "    return avg"
     ],
     "language": "python",
     "metadata": {},
     "outputs": [],
     "prompt_number": 239
    },
    {
     "cell_type": "code",
     "collapsed": false,
     "input": [
      "print('accuracy using default settings: %.4g' % do_expt(filenames, y))"
     ],
     "language": "python",
     "metadata": {},
     "outputs": [
      {
       "output_type": "stream",
       "stream": "stdout",
       "text": [
        "accuracy using default settings: 0.8153\n"
       ]
      }
     ],
     "prompt_number": 240
    },
    {
     "cell_type": "code",
     "collapsed": false,
     "input": [
      "'''\n",
      "Varying the setting of n_folds parameter in the do_expt \n",
      "    function to be in [2,5,10,20]. For each setting, call do_expt and \n",
      "    store the resulting accuracy. Plot the accuracies for each setting.\n",
      "    Also return the list of accuracies. Use the default value for all\n",
      "    other arguments to the do_expt function.\n",
      "'''\n",
      "\n",
      "def compare_n_folds(filenames, y):\n",
      "    \"\"\"\n",
      "    Parameters:\n",
      "        filenames....list of training file names\n",
      "        y............true labels for each file (a numpy array)\n",
      "    Returns:\n",
      "        a list of average testing accuracies, one per fold.\n",
      "    \"\"\"\n",
      "\n",
      "    nfolds = [2,5,10,20]\n",
      "    accuracy_different_nfolds = [do_expt(filenames,y,n_folds=x) for x in nfolds]\n",
      "    plt.figure()\n",
      "    plt.plot(nfolds, accuracy_different_nfolds,'bo-')\n",
      "    plt.xlabel('n_folds')\n",
      "    plt.ylabel('accuracy')\n",
      "    plt.show()\n",
      "    return accuracy_different_nfolds\n",
      "        \n",
      "compare_n_folds(filenames, y)"
     ],
     "language": "python",
     "metadata": {},
     "outputs": [
      {
       "metadata": {},
       "output_type": "display_data",
       "png": "[encoded data removed]",
       "text": [
        "<matplotlib.figure.Figure at 0x7fc72966a850>"
       ]
      },
      {
       "metadata": {},
       "output_type": "pyout",
       "prompt_number": 243,
       "text": [
        "[0.79939141796176583,\n",
        " 0.81526014865637497,\n",
        " 0.82510822510822501,\n",
        " 0.83117367706919953]"
       ]
      }
     ],
     "prompt_number": 243
    },
    {
     "cell_type": "code",
     "collapsed": false,
     "input": [
      "'''\n",
      "Varying the setting of min_df parameter in the do_expt \n",
      "function to be ints in the range (1,10) (inclusive). \n",
      "'''\n",
      "def min_df_expt(filenames, y):\n",
      "    \"\"\"\n",
      "    Params:\n",
      "        filenames....list of training file names\n",
      "        y............true labels for each file (a numpy array)\n",
      "    Returns:\n",
      "        a list of average testing accuracies, one per min_df value.\n",
      "    \"\"\"\n",
      "\n",
      "    min_dfs = [ do_expt(filenames=filenames, y = y, min_df=min_df, tokenizer_fn=tokenize)\n",
      "               for min_df in range(1,11)]\n",
      "    #plt.figure()\n",
      "    plt.plot(min_dfs,'bo-')\n",
      "    plt.xlabel('min_df')\n",
      "    plt.ylabel('accuracy')\n",
      "    plt.show()\n",
      "    \n",
      "    return min_dfs\n",
      "\n",
      "min_df_expt(filenames, y)"
     ],
     "language": "python",
     "metadata": {},
     "outputs": [
      {
       "metadata": {},
       "output_type": "display_data",
       "png": "[encoded data removed]",
       "text": [
        "<matplotlib.figure.Figure at 0x7fc72be5bbd0>"
       ]
      },
      {
       "metadata": {},
       "output_type": "pyout",
       "prompt_number": 312,
       "text": [
        "[0.81526014865637497,\n",
        " 0.82283018867924529,\n",
        " 0.80619496855345907,\n",
        " 0.80469125214408233,\n",
        " 0.80242424242424248,\n",
        " 0.806969696969697,\n",
        " 0.78500857632933108,\n",
        " 0.7759233847913094,\n",
        " 0.77743567753001719,\n",
        " 0.77440537449971403]"
       ]
      }
     ],
     "prompt_number": 312
    },
    {
     "cell_type": "code",
     "collapsed": false,
     "input": [
      "'''\n",
      "Varying the setting of max_df parameter in the do_expt \n",
      "function to be one of [.1, .2, .3, .4, .5, .6, .7, .8, .9, 1.]\n",
      "'''\n",
      "def max_df_expt(filenames, y):\n",
      "    \"\"\"\n",
      "    Parameters:\n",
      "        filenames....list of training file names\n",
      "        y............true labels for each file (a numpy array)\n",
      "    Returns:\n",
      "        a list of average testing accuracies, one per max_df value.\n",
      "    \"\"\"\n",
      "\n",
      "    max_df_values = [.1, .2, .3, .4, .5, .6, .7, .8, .9, 1.]\n",
      "    max_dfs = [do_expt(filenames=filenames, y = y, min_df=2, max_df = x, tokenizer_fn=tokenize) for x in max_df_values]\n",
      "    plt.plot(max_dfs,'bo-')\n",
      "    plt.xlabel('max_df')\n",
      "    plt.ylabel('accuracy')\n",
      "    plt.show()\n",
      "    return max_dfs\n",
      "    \n",
      "max_df_expt(filenames, y)"
     ],
     "language": "python",
     "metadata": {},
     "outputs": [
      {
       "metadata": {},
       "output_type": "display_data",
       "png": "[encoded data removed]",
       "text": [
        "<matplotlib.figure.Figure at 0x7fc729513850>"
       ]
      },
      {
       "metadata": {},
       "output_type": "pyout",
       "prompt_number": 245,
       "text": [
        "[0.81981132075471697,\n",
        " 0.82283018867924529,\n",
        " 0.82283018867924529,\n",
        " 0.82283018867924529,\n",
        " 0.82283018867924529,\n",
        " 0.82283018867924529,\n",
        " 0.82283018867924529,\n",
        " 0.82283018867924529,\n",
        " 0.82283018867924529,\n",
        " 0.82283018867924529]"
       ]
      }
     ],
     "prompt_number": 245
    },
    {
     "cell_type": "code",
     "collapsed": false,
     "input": [
      "# Training final classifier using our best settings.\n",
      "X, vec = do_vectorize(filenames, tokenizer_fn=tokenize,\n",
      "                      binary=True, min_df=1, max_df=0.1)\n",
      "clf = get_clf()\n",
      "clf.fit(X, y)"
     ],
     "language": "python",
     "metadata": {},
     "outputs": [
      {
       "metadata": {},
       "output_type": "pyout",
       "prompt_number": 246,
       "text": [
        "LogisticRegression(C=1.0, class_weight=None, dual=False, fit_intercept=True,\n",
        "          intercept_scaling=1, max_iter=100, multi_class='ovr', n_jobs=1,\n",
        "          penalty='l2', random_state=42, solver='liblinear', tol=0.0001,\n",
        "          verbose=0, warm_start=False)"
       ]
      }
     ],
     "prompt_number": 246
    },
    {
     "cell_type": "code",
     "collapsed": false,
     "input": [
      "'''\n",
      "Getting the top n coefficients for each class (positive/negative).\n",
      "'''\n",
      "def get_top_coefficients(clf, vec, n=10):\n",
      "    \"\"\"\n",
      "    Parameters:\n",
      "        clf...a LogisticRegression object that has already been fit to data.\n",
      "        vec...a CountVectorizer\n",
      "        n.....the number of features to print per class.\n",
      "    Returns:\n",
      "        Two lists of tuples. The first list containts the top terms for the positive\n",
      "        class. Each entry is a tuple of (string, float) pairs, where\n",
      "        string is the feature name and float is the coefficient.\n",
      "        The second list is the same but for the negative class.\n",
      "        In each list, entries are be sorted in descending order of \n",
      "        absolute value.\"\"\"\n",
      "\n",
      "    lis =  sorted(zip(clf.coef_[0], vec.get_feature_names()))\n",
      "    size = len(lis)-1\n",
      "\n",
      "    pos_coef = []\n",
      "    neg_coef = []\n",
      "    for x in range(n):\n",
      "        neg_coef.append(lis[x])\n",
      "        pos_coef.append(lis[size-x])\n",
      "    return (pos_coef,neg_coef)\n",
      "    \n",
      "\n",
      "pos_coef, neg_coef = get_top_coefficients(clf, vec, n=5)\n",
      "print('top positive coefs: %s' % str(pos_coef))\n",
      "print('top negative coefs: %s' % str(neg_coef))"
     ],
     "language": "python",
     "metadata": {},
     "outputs": [
      {
       "output_type": "stream",
       "stream": "stdout",
       "text": [
        "top positive coefs: [(1.9693903437036602, u'funny'), (1.6355816889041488, u'best'), (1.5647365104413631, u'great'), (1.3476402905970319, u'lol'), (1.2511960267469189, u'amazing')]\n",
        "top negative coefs: [(-2.613513956159855, u'shit'), (-2.5090190329638014, u'bad'), (-2.3899436894291646, u'racism'), (-2.3683650211093235, u'fuck'), (-2.2100882933371717, u'damn')]\n"
       ]
      }
     ],
     "prompt_number": 247
    },
    {
     "cell_type": "code",
     "collapsed": false,
     "input": [
      "actorsfile = open(\"data\"+os.sep+\"actors\"+os.sep+\"actors.txt\",\"r\").readlines()\n",
      "\n",
      "actorslist = []\n",
      "\n",
      "for actor in actorsfile:\n",
      "    actorslist.append(actor.rstrip(\"\\n\"))\n",
      "\n",
      "regions = [\"SouthWest\",\"MidWest\",\"NorthEast\",\"West\",\"SouthEast\"]\n",
      "\n",
      "predict_dict = {}\n",
      "\n",
      "\n",
      "test_path = \"data\"+os.sep+\"tweets\"+os.sep+\"test\"\n"
     ],
     "language": "python",
     "metadata": {},
     "outputs": [],
     "prompt_number": 305
    },
    {
     "cell_type": "code",
     "collapsed": false,
     "input": [
      "'''\n",
      "Predicting the sentiment of the actors in each region.\n",
      "'''\n",
      "def get_predicted_values():\n",
      "    \"\"\"\n",
      "    Returns : predicted_dict... a dictionary that contains various values that are predicted for each actor.\n",
      "    \"\"\"\n",
      "    for actor in actorslist:\n",
      "        region_list = []\n",
      "        regions_dict = {}\n",
      "        for region in regions:\n",
      "            pos_test_files = get_files(test_path + os.sep + actor + os.sep + region + os.sep + 'pos')\n",
      "            neg_test_files = get_files(test_path + os.sep + actor + os.sep + region + os.sep + 'neg')\n",
      "            all_test_files = pos_test_files + neg_test_files\n",
      "            \n",
      "            X_test = vec.transform(all_test_files)\n",
      "            y_test = np.array([1] * len(pos_test_files) + [0] * len(neg_test_files))\n",
      "            \n",
      "    \n",
      "            accuracy_score_value = accuracy_score(y_test, clf.predict(X_test))\n",
      "            true_positive_label = len(np.where(y_test==1)[0])\n",
      "            true_negative_label = len(np.where(y_test==0)[0])\n",
      "            positive_predicted_labels = (clf.predict(X_test)).sum()\n",
      "            negative_predicted_labels = len(clf.predict(X_test))-(clf.predict(X_test)).sum()\n",
      "            \n",
      "            predicted_popularity_score = positive_predicted_labels / negative_predicted_labels\n",
      "            true_popularity_score = true_positive_label / true_negative_label\n",
      "            \n",
      "            #print accuracy_score_value\n",
      "            regions_dict[region] = [true_positive_label,true_negative_label,\n",
      "                                    positive_predicted_labels,negative_predicted_labels,\n",
      "                                    accuracy_score_value, predicted_popularity_score, true_popularity_score]\n",
      "        \n",
      "        predict_dict[actor] = regions_dict\n",
      "    return predict_dict\n",
      "\n",
      "prediction_of_actors = get_predicted_values()"
     ],
     "language": "python",
     "metadata": {},
     "outputs": [],
     "prompt_number": 306
    },
    {
     "cell_type": "code",
     "collapsed": false,
     "input": [
      "sum_of_accuracy = 0\n",
      "count = 0\n",
      "for actor, predictions in prediction_of_actors.iteritems():\n",
      "    for region, values in predictions.iteritems():\n",
      "        sum_of_accuracy+=values[4]\n",
      "        count+=1\n",
      "average_accuracy_score_for_all = sum_of_accuracy/count\n",
      "average_accuracy_score_for_all"
     ],
     "language": "python",
     "metadata": {},
     "outputs": [
      {
       "metadata": {},
       "output_type": "pyout",
       "prompt_number": 307,
       "text": [
        "0.82456432595361917"
       ]
      }
     ],
     "prompt_number": 307
    },
    {
     "cell_type": "code",
     "collapsed": false,
     "input": [
      "'''\n",
      "Drawing a graph that shows the comparision between predicted and true labels of a particular\n",
      "actor in each region.\n",
      "'''\n",
      "N = 5\n",
      "\n",
      "true_positive_labels  = []\n",
      "predicted_positive_labels  = []\n",
      "\n",
      "\n",
      "for each_region, region_values in prediction_of_actors[actorslist[3]].iteritems():\n",
      "    true_positive_labels.append(region_values[0])\n",
      "    predicted_positive_labels.append(region_values[2])\n",
      "\n",
      "ind = np.arange(N)  # the x locations for the groups\n",
      "width = 0.35       # the width of the bars\n",
      "\n",
      "fig, ax = plt.subplots()\n",
      "rects1 = ax.bar(ind, true_positive_labels, width, color='r')\n",
      "\n",
      "rects2 = ax.bar(ind + width, predicted_positive_labels, width, color='y')\n",
      "\n",
      "# add some text for labels, title and axes ticks\n",
      "ax.set_ylabel('Count of Positive Tweets')\n",
      "ax.set_title(actorslist[3]+\" (true vs. predicted)\")\n",
      "ax.set_xticks(ind + width)\n",
      "ax.set_xticklabels(regions)\n",
      "\n",
      "ax.legend((rects1[0], rects2[0]), ('True positive labels', 'Predicted positive labels'))\n",
      "\n",
      "\n",
      "def autolabel(rects):\n",
      "    # attach some text labels\n",
      "    for rect in rects:\n",
      "        height = rect.get_height()\n",
      "        ax.text(rect.get_x() + rect.get_width()/2., 1.05*height,\n",
      "                '%d' % int(height),\n",
      "                ha='center', va='bottom')\n",
      "\n",
      "autolabel(rects1)\n",
      "autolabel(rects2)\n",
      "\n",
      "plt.show()"
     ],
     "language": "python",
     "metadata": {},
     "outputs": [
      {
       "metadata": {},
       "output_type": "display_data",
       "png": "[encoded data removed]",
       "text": [
        "<matplotlib.figure.Figure at 0x7fc729705b50>"
       ]
      }
     ],
     "prompt_number": 273
    },
    {
     "cell_type": "code",
     "collapsed": false,
     "input": [
      "'''\n",
      "Analyzing the popular actors according to each region.\n",
      "'''\n",
      "\n",
      "popular_by_region_true = {}\n",
      "\n",
      "for each in regions:\n",
      "    popular_by_region_true[each] = [\"\", 0]\n",
      "for k, v in prediction_of_actors.iteritems():\n",
      "    for k1,v1 in v.iteritems():\n",
      "        if popular_by_region_true[k1][1] < v1[6]:\n",
      "            popular_by_region_true[k1][0] = k\n",
      "            popular_by_region_true[k1][1] = v1[6]\n",
      "print 'True Popularity of actors by region'\n",
      "print popular_by_region_true\n",
      "\n",
      "popular_by_region_predicted = {}\n",
      "\n",
      "for each in regions:\n",
      "    popular_by_region_predicted[each] = [\"\", 0]\n",
      "for k, v in prediction_of_actors.iteritems():\n",
      "    for k1,v1 in v.iteritems():\n",
      "        if popular_by_region_predicted[k1][1] < v1[5]:\n",
      "            popular_by_region_predicted[k1][0] = k\n",
      "            popular_by_region_predicted[k1][1] = v1[5]\n",
      "print 'Predicted Popularity of actors by region'\n",
      "print popular_by_region_predicted"
     ],
     "language": "python",
     "metadata": {},
     "outputs": [
      {
       "output_type": "stream",
       "stream": "stdout",
       "text": [
        "True Popularity of actors by region\n",
        "{'West': ['Tom Hanks', 2], 'NorthEast': ['Sandra Bullock', 3], 'MidWest': ['Jennifer Lawrence', 4], 'SouthEast': ['Sandra Bullock', 6], 'SouthWest': ['Scarlett Johansson', 2]}\n",
        "Predicted Popularity of actors by region\n",
        "{'West': ['Tom Hanks', 3], 'NorthEast': ['Tom Cruise', 15], 'MidWest': ['Jennifer Lawrence', 6], 'SouthEast': ['Sandra Bullock', 14], 'SouthWest': ['Scarlett Johansson', 5]}\n"
       ]
      }
     ],
     "prompt_number": 309
    }
   ],
   "metadata": {}
  }
 ]
}